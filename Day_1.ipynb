{
  "nbformat": 4,
  "nbformat_minor": 0,
  "metadata": {
    "colab": {
      "provenance": [],
      "authorship_tag": "ABX9TyNllp5Q9RhK5NMPgVje94qr",
      "include_colab_link": true
    },
    "kernelspec": {
      "name": "python3",
      "display_name": "Python 3"
    },
    "language_info": {
      "name": "python"
    }
  },
  "cells": [
    {
      "cell_type": "markdown",
      "metadata": {
        "id": "view-in-github",
        "colab_type": "text"
      },
      "source": [
        "<a href=\"https://colab.research.google.com/github/Bateyjosue/NLP_Fellowship/blob/main/Day_1.ipynb\" target=\"_parent\"><img src=\"https://colab.research.google.com/assets/colab-badge.svg\" alt=\"Open In Colab\"/></a>"
      ]
    },
    {
      "cell_type": "markdown",
      "source": [
        "## In-class Practicals\n",
        "\n",
        "Convert this into a class and functions:\n"
      ],
      "metadata": {
        "id": "z6STpdhoqggn"
      }
    },
    {
      "cell_type": "code",
      "source": [
        "import numpy as np"
      ],
      "metadata": {
        "id": "Qr7A7J7rnbHo"
      },
      "execution_count": 2,
      "outputs": []
    },
    {
      "cell_type": "code",
      "source": [
        "class Bow:\n",
        "    def __init__(self):\n",
        "        # Enter code here\n",
        "        self.vocab = {}\n",
        "\n",
        "\n",
        "    def fit(self,document):\n",
        "        #Enter code\n",
        "        text = ' '.join(document).split()\n",
        "        text = list(set(text))\n",
        "        for key, txt in enumerate(text):\n",
        "            self.vocab[txt] = key \n",
        "\n",
        "    def transform(self,data):\n",
        "        \n",
        "        #Enter code\n",
        "        transformed = np.empty((len(data), len(self.vocab))) \n",
        "        for row, sentence in enumerate(data):\n",
        "            transforme = np.zeros(len(self.vocab))\n",
        "            for word in sentence.split():\n",
        "                if word in self.vocab:\n",
        "                    index = self.vocab[word]\n",
        "                    transforme[index] += 1\n",
        "            transformed[row] = transforme\n",
        "        return transformed\n",
        "\n",
        "    def fit_transform(self,data):\n",
        "        self.fit(data)\n",
        "        return self.transform(data)\n",
        "\n",
        "    def _transform_single(self,list_words):\n",
        "\n",
        "        # This code is for transforming a single sentence\n",
        "        transformed = np.zeros(len(self.vocab))\n",
        "        for word in list_words.split():\n",
        "            if word in self.vocab:\n",
        "                index = self.vocab[word]\n",
        "                transformed[index] += 1\n",
        "        return transformed"
      ],
      "metadata": {
        "id": "hwDCfIqHqnIy"
      },
      "execution_count": 1,
      "outputs": []
    },
    {
      "cell_type": "code",
      "source": [
        "bow = Bow()\n",
        "data = ['this is a list of sentences example', 'second sentence in list of sentence', 'a word for complexity',]\n",
        "test_sentence = 'this is an example of sentence with sentence that are complexity with many example'\n",
        "bow.fit(data)\n",
        "print(f'VOCAB: {bow.vocab}')\n",
        "fq = bow.fit_transform(data)\n",
        "print(fq)\n",
        "\n",
        "fq_single = bow._transform_single(test_sentence)\n",
        "fq_single"
      ],
      "metadata": {
        "id": "SibBzPrMquTd",
        "colab": {
          "base_uri": "https://localhost:8080/"
        },
        "outputId": "e469939c-10b5-4ea0-aac2-b521325661f4"
      },
      "execution_count": 7,
      "outputs": [
        {
          "output_type": "stream",
          "name": "stdout",
          "text": [
            "VOCAB: {'list': 0, 'complexity': 1, 'this': 2, 'is': 3, 'word': 4, 'sentence': 5, 'second': 6, 'of': 7, 'in': 8, 'for': 9, 'a': 10, 'example': 11, 'sentences': 12}\n",
            "[[1. 0. 1. 1. 0. 0. 0. 1. 0. 0. 1. 1. 1.]\n",
            " [1. 0. 0. 0. 0. 2. 1. 1. 1. 0. 0. 0. 0.]\n",
            " [0. 1. 0. 0. 1. 0. 0. 0. 0. 1. 1. 0. 0.]]\n"
          ]
        },
        {
          "output_type": "execute_result",
          "data": {
            "text/plain": [
              "array([0., 1., 1., 1., 0., 2., 0., 1., 0., 0., 0., 2., 0.])"
            ]
          },
          "metadata": {},
          "execution_count": 7
        }
      ]
    },
    {
      "cell_type": "markdown",
      "source": [
        "**`!Note`**\n",
        "We compare the **vocab** which is our unique dictonary of words/Tokens to the **test sentence** given to check the token at a specific index occur how many time in the sentence . . ."
      ],
      "metadata": {
        "id": "IP-ki2-nrAHh"
      }
    },
    {
      "cell_type": "markdown",
      "source": [
        "    VOCAB: {\n",
        "        'list': 0, \n",
        "        'complexity': 1, \n",
        "        'this': 2, \n",
        "        'is': 3, \n",
        "        'word': 4, \n",
        "        'sentence': 5, \n",
        "        'second': 6, \n",
        "        'of': 7, \n",
        "        'in': 8, \n",
        "        'for': 9, \n",
        "        'a': 10, \n",
        "        'example': 11, \n",
        "        'sentences': 12\n",
        "    }\n",
        "\n",
        "\n",
        "1.   ### List of sentences Test\n",
        "          [\n",
        "            [1. 0. 1. 1. 0. 0. 0. 1. 0. 0. 1. 1. 1.]\n",
        "            [1. 0. 0. 0. 0. 2. 1. 1. 1. 0. 0. 0. 0.]\n",
        "            [0. 1. 0. 0. 1. 0. 0. 0. 0. 1. 1. 0. 0.]\n",
        "          ]\n",
        "\n",
        "2.    ### Single sentence Test\n",
        "\n",
        "**Sentence:** 'this is an example of sentence with sentence that are complexity with many example'\n",
        "\n",
        "      array([0., 1., 1., 1., 0., 2., 0., 1., 0., 0., 0., 2., 0.])\n"
      ],
      "metadata": {
        "id": "JWbFGG2Pr8fh"
      }
    },
    {
      "cell_type": "markdown",
      "source": [
        "## Assignment\n",
        "BOW using your tokens and share some sentences to text"
      ],
      "metadata": {
        "id": "C40KHOEjquxE"
      }
    },
    {
      "cell_type": "code",
      "source": [],
      "metadata": {
        "id": "OBdSYtAut7O_"
      },
      "execution_count": null,
      "outputs": []
    }
  ]
}