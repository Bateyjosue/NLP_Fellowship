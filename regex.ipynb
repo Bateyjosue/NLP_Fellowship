{
  "nbformat": 4,
  "nbformat_minor": 0,
  "metadata": {
    "colab": {
      "provenance": [],
      "authorship_tag": "ABX9TyNzuw9c1511S+aeX63ykmhF",
      "include_colab_link": true
    },
    "kernelspec": {
      "name": "python3",
      "display_name": "Python 3"
    },
    "language_info": {
      "name": "python"
    }
  },
  "cells": [
    {
      "cell_type": "markdown",
      "metadata": {
        "id": "view-in-github",
        "colab_type": "text"
      },
      "source": [
        "<a href=\"https://colab.research.google.com/github/Bateyjosue/NLP_Fellowship/blob/main/regex.ipynb\" target=\"_parent\"><img src=\"https://colab.research.google.com/assets/colab-badge.svg\" alt=\"Open In Colab\"/></a>"
      ]
    },
    {
      "cell_type": "code",
      "execution_count": 2,
      "metadata": {
        "colab": {
          "base_uri": "https://localhost:8080/"
        },
        "id": "szX8tbXKUPoz",
        "outputId": "5af24f57-06af-4561-ce4a-36f0daba1a2f"
      },
      "outputs": [
        {
          "output_type": "stream",
          "name": "stdout",
          "text": [
            "False\n"
          ]
        }
      ],
      "source": [
        "str1 = 'Hello'\n",
        "str2 = 'hello'\n",
        "if(str1 == str2):\n",
        "  print(True)\n",
        "else: \n",
        "  print(False)"
      ]
    },
    {
      "cell_type": "code",
      "source": [
        "import re\n",
        "str3 =\"word hello dynimite hello jhdbhsd hello suzan job sksdm hello\"\n",
        "re.sub('hello', 'Salama', str3)"
      ],
      "metadata": {
        "colab": {
          "base_uri": "https://localhost:8080/",
          "height": 35
        },
        "id": "AeLPFG3uXdTV",
        "outputId": "e7e112e2-a2d4-487c-f742-2b333331edf5"
      },
      "execution_count": 6,
      "outputs": [
        {
          "output_type": "execute_result",
          "data": {
            "text/plain": [
              "'word Salama dynimite Salama jhdbhsd Salama suzan job sksdm Salama'"
            ],
            "application/vnd.google.colaboratory.intrinsic+json": {
              "type": "string"
            }
          },
          "metadata": {},
          "execution_count": 6
        }
      ]
    },
    {
      "cell_type": "code",
      "source": [
        "print(str1[0])"
      ],
      "metadata": {
        "colab": {
          "base_uri": "https://localhost:8080/"
        },
        "id": "_C9meeN1ayaO",
        "outputId": "1a0820a2-716c-4cb9-e6d7-2fdbe9e5795a"
      },
      "execution_count": 4,
      "outputs": [
        {
          "output_type": "stream",
          "name": "stdout",
          "text": [
            "H\n"
          ]
        }
      ]
    },
    {
      "cell_type": "code",
      "source": [
        "any_str = 'hello_2022_?-5'\n",
        "pattern = re.compile(r'_?\\D')\n",
        "\n",
        "for pat in pattern.finditer(any_str):\n",
        "  print(pat)"
      ],
      "metadata": {
        "colab": {
          "base_uri": "https://localhost:8080/"
        },
        "id": "a3RRxIyMa4_T",
        "outputId": "483a6366-7d2b-4acc-dba9-926164acbaa0"
      },
      "execution_count": 13,
      "outputs": [
        {
          "output_type": "stream",
          "name": "stdout",
          "text": [
            "<re.Match object; span=(0, 1), match='h'>\n",
            "<re.Match object; span=(1, 2), match='e'>\n",
            "<re.Match object; span=(2, 3), match='l'>\n",
            "<re.Match object; span=(3, 4), match='l'>\n",
            "<re.Match object; span=(4, 5), match='o'>\n",
            "<re.Match object; span=(5, 6), match='_'>\n",
            "<re.Match object; span=(10, 12), match='_?'>\n",
            "<re.Match object; span=(12, 13), match='-'>\n"
          ]
        }
      ]
    },
    {
      "cell_type": "code",
      "source": [],
      "metadata": {
        "id": "V3dWycKTqgNd"
      },
      "execution_count": null,
      "outputs": []
    }
  ]
}